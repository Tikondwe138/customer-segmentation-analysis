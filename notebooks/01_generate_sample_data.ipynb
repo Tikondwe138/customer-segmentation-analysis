# 01_generate_sample_data.ipynb

import pandas as pd
import numpy as np

# Set seed for reproducibility
np.random.seed(42)

# Generate fake customer data
num_customers = 200

data = {
    "CustomerID": range(1, num_customers + 1),
    "Age": np.random.randint(18, 70, size=num_customers),
    "Annual Income (k$)": np.random.randint(15, 150, size=num_customers),
    "Spending Score (1-100)": np.random.randint(1, 100, size=num_customers)
}

df = pd.DataFrame(data)

# Save to data folder
df.to_csv("../data/customer_data.csv", index=False)

df.head()
