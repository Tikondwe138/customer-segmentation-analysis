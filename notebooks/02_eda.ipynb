# 02_eda.ipynb
# Exploratory Data Analysis for Customer Segmentation

import pandas as pd
import matplotlib.pyplot as plt
import seaborn as sns

# Set style
sns.set(style="whitegrid")

# Load dataset
df = pd.read_csv("../data/customer_data.csv")

# -------------------------------
# 🧠 Basic Overview
# -------------------------------

display(df.head())
print(df.describe())
print(df.info())

# -------------------------------
# 📊 Missing Values Check
# -------------------------------

print("\nMissing values per column:")
print(df.isnull().sum())

# -------------------------------
# 🔍 Correlation Matrix
# -------------------------------

plt.figure(figsize=(6, 4))
sns.heatmap(df.drop(columns=["CustomerID"]).corr(), annot=True, cmap="coolwarm")
plt.title("Correlation Matrix")
plt.tight_layout()
plt.show()

# -------------------------------
# 🔗 Pairplot (Scatter Matrix)
# -------------------------------

sns.pairplot(df.drop(columns=["CustomerID"]))
plt.suptitle("Pairwise Relationships", y=1.02)
plt.show()

# -------------------------------
# 📈 Distribution Plots
# -------------------------------

fig, axs = plt.subplots(1, 3, figsize=(16, 4))

sns.histplot(df["Age"], bins=20, kde=True, ax=axs[0], color="skyblue")
axs[0].set_title("Age Distribution")

sns.histplot(df["AnnualIncome"], bins=20, kde=True, ax=axs[1], color="salmon")
axs[1].set_title("Annual Income Distribution")

sns.histplot(df["SpendingScore"], bins=20, kde=True, ax=axs[2], color="limegreen")
axs[2].set_title("Spending Score Distribution")

plt.tight_layout()
plt.show()

# -------------------------------
# 📌 Box Plots (Outlier Detection)
# -------------------------------

fig, axs = plt.subplots(1, 3, figsize=(16, 4))

sns.boxplot(y=df["Age"], ax=axs[0], color="skyblue")
axs[0].set_title("Age Outliers")

sns.boxplot(y=df["AnnualIncome"], ax=axs[1], color="salmon")
axs[1].set_title("Annual Income Outliers")

sns.boxplot(y=df["SpendingScore"], ax=axs[2], color="limegreen")
axs[2].set_title("Spending Score Outliers")

plt.tight_layout()
plt.show()
