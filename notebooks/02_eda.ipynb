# 02_eda.ipynb

import pandas as pd
import matplotlib.pyplot as plt
import seaborn as sns

# Load dataset
df = pd.read_csv("../data/customer_data.csv")

# Basic overview
display(df.head())
print(df.describe())
print(df.info())

# Correlation matrix
plt.figure(figsize=(6, 4))
sns.heatmap(df.drop(columns=["CustomerID"]).corr(), annot=True, cmap="coolwarm")
plt.title("Correlation Matrix")
plt.tight_layout()
plt.show()

# Pairplot
sns.pairplot(df.drop(columns=["CustomerID"]))
plt.suptitle("Pairwise Relationships", y=1.02)
plt.show()

# Distribution plots
fig, axs = plt.subplots(1, 3, figsize=(15, 4))
sns.histplot(df["Age"], bins=20, kde=True, ax=axs[0])
axs[0].set_title("Age Distribution")

sns.histplot(df["Annual Income (k$)"], bins=20, kde=True, ax=axs[1])
axs[1].set_title("Annual Income Distribution")

sns.histplot(df["Spending Score (1-100)"], bins=20, kde=True, ax=axs[2])
axs[2].set_title("Spending Score Distribution")

plt.tight_layout()
plt.show()
